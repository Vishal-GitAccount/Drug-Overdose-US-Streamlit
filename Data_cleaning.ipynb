{
 "cells": [
  {
   "cell_type": "code",
   "execution_count": 1,
   "metadata": {},
   "outputs": [],
   "source": [
    "#Importing libraries\n",
    "import streamlit as st \n",
    "import pandas as pd\n",
    "import numpy as np\n",
    "import seaborn as sns\n",
    "import altair as alt\n",
    "import matplotlib.pyplot as plt"
   ]
  },
  {
   "cell_type": "code",
   "execution_count": 3,
   "metadata": {},
   "outputs": [
    {
     "name": "stderr",
     "output_type": "stream",
     "text": [
      "C:\\Users\\Lizet\\AppData\\Local\\Temp\\ipykernel_18028\\3663718917.py:4: SettingWithCopyWarning: \n",
      "A value is trying to be set on a copy of a slice from a DataFrame\n",
      "\n",
      "See the caveats in the documentation: https://pandas.pydata.org/pandas-docs/stable/user_guide/indexing.html#returning-a-view-versus-a-copy\n",
      "  provisional_death[['Data Value', 'Predicted Value']].replace(',', '', regex=True, inplace=True)\n"
     ]
    },
    {
     "data": {
      "text/html": [
       "<div>\n",
       "<style scoped>\n",
       "    .dataframe tbody tr th:only-of-type {\n",
       "        vertical-align: middle;\n",
       "    }\n",
       "\n",
       "    .dataframe tbody tr th {\n",
       "        vertical-align: top;\n",
       "    }\n",
       "\n",
       "    .dataframe thead th {\n",
       "        text-align: right;\n",
       "    }\n",
       "</style>\n",
       "<table border=\"1\" class=\"dataframe\">\n",
       "  <thead>\n",
       "    <tr style=\"text-align: right;\">\n",
       "      <th></th>\n",
       "      <th>State</th>\n",
       "      <th>Year</th>\n",
       "      <th>Month</th>\n",
       "      <th>Period</th>\n",
       "      <th>Indicator</th>\n",
       "      <th>Data Value</th>\n",
       "      <th>Percent Complete</th>\n",
       "      <th>Percent Pending Investigation</th>\n",
       "      <th>State Name</th>\n",
       "      <th>Predicted Value</th>\n",
       "    </tr>\n",
       "  </thead>\n",
       "  <tbody>\n",
       "    <tr>\n",
       "      <th>0</th>\n",
       "      <td>AK</td>\n",
       "      <td>2015</td>\n",
       "      <td>April</td>\n",
       "      <td>12 month-ending</td>\n",
       "      <td>Synthetic opioids, excl. methadone (T40.4)</td>\n",
       "      <td>0</td>\n",
       "      <td>100</td>\n",
       "      <td>0.0</td>\n",
       "      <td>Alaska</td>\n",
       "      <td>0</td>\n",
       "    </tr>\n",
       "    <tr>\n",
       "      <th>1</th>\n",
       "      <td>AK</td>\n",
       "      <td>2015</td>\n",
       "      <td>April</td>\n",
       "      <td>12 month-ending</td>\n",
       "      <td>Heroin (T40.1)</td>\n",
       "      <td>0</td>\n",
       "      <td>100</td>\n",
       "      <td>0.0</td>\n",
       "      <td>Alaska</td>\n",
       "      <td>0</td>\n",
       "    </tr>\n",
       "    <tr>\n",
       "      <th>2</th>\n",
       "      <td>AK</td>\n",
       "      <td>2015</td>\n",
       "      <td>April</td>\n",
       "      <td>12 month-ending</td>\n",
       "      <td>Natural &amp; semi-synthetic opioids (T40.2)</td>\n",
       "      <td>0</td>\n",
       "      <td>100</td>\n",
       "      <td>0.0</td>\n",
       "      <td>Alaska</td>\n",
       "      <td>0</td>\n",
       "    </tr>\n",
       "    <tr>\n",
       "      <th>3</th>\n",
       "      <td>AK</td>\n",
       "      <td>2015</td>\n",
       "      <td>April</td>\n",
       "      <td>12 month-ending</td>\n",
       "      <td>Number of Drug Overdose Deaths</td>\n",
       "      <td>126</td>\n",
       "      <td>100</td>\n",
       "      <td>0.0</td>\n",
       "      <td>Alaska</td>\n",
       "      <td>126</td>\n",
       "    </tr>\n",
       "    <tr>\n",
       "      <th>4</th>\n",
       "      <td>AK</td>\n",
       "      <td>2015</td>\n",
       "      <td>April</td>\n",
       "      <td>12 month-ending</td>\n",
       "      <td>Cocaine (T40.5)</td>\n",
       "      <td>0</td>\n",
       "      <td>100</td>\n",
       "      <td>0.0</td>\n",
       "      <td>Alaska</td>\n",
       "      <td>0</td>\n",
       "    </tr>\n",
       "  </tbody>\n",
       "</table>\n",
       "</div>"
      ],
      "text/plain": [
       "  State  Year  Month           Period  \\\n",
       "0    AK  2015  April  12 month-ending   \n",
       "1    AK  2015  April  12 month-ending   \n",
       "2    AK  2015  April  12 month-ending   \n",
       "3    AK  2015  April  12 month-ending   \n",
       "4    AK  2015  April  12 month-ending   \n",
       "\n",
       "                                    Indicator  Data Value Percent Complete  \\\n",
       "0  Synthetic opioids, excl. methadone (T40.4)           0              100   \n",
       "1                              Heroin (T40.1)           0              100   \n",
       "2    Natural & semi-synthetic opioids (T40.2)           0              100   \n",
       "3              Number of Drug Overdose Deaths         126              100   \n",
       "4                             Cocaine (T40.5)           0              100   \n",
       "\n",
       "   Percent Pending Investigation State Name  Predicted Value  \n",
       "0                            0.0     Alaska                0  \n",
       "1                            0.0     Alaska                0  \n",
       "2                            0.0     Alaska                0  \n",
       "3                            0.0     Alaska              126  \n",
       "4                            0.0     Alaska                0  "
      ]
     },
     "execution_count": 3,
     "metadata": {},
     "output_type": "execute_result"
    }
   ],
   "source": [
    "#Reading in the data \n",
    "provisional_death=pd.read_csv('data/provisional_death.csv')\n",
    "#removing commas FOR DATA VALUE AND PREDICTED \n",
    "provisional_death[['Data Value', 'Predicted Value']].replace(',', '', regex=True, inplace=True)\n",
    "\n",
    "\n",
    "#describing data \n",
    "provisional_death.head()"
   ]
  },
  {
   "cell_type": "code",
   "execution_count": 4,
   "metadata": {},
   "outputs": [
    {
     "data": {
      "text/plain": [
       "State                            0\n",
       "Year                             0\n",
       "Month                            0\n",
       "Period                           0\n",
       "Indicator                        0\n",
       "Data Value                       0\n",
       "Percent Complete                 0\n",
       "Percent Pending Investigation    0\n",
       "State Name                       0\n",
       "Predicted Value                  0\n",
       "dtype: int64"
      ]
     },
     "execution_count": 4,
     "metadata": {},
     "output_type": "execute_result"
    }
   ],
   "source": [
    "#Checking for null values & columns \n",
    "provisional_death.isnull()\n",
    "provisional_death.isna().sum()"
   ]
  },
  {
   "cell_type": "code",
   "execution_count": 5,
   "metadata": {},
   "outputs": [
    {
     "name": "stdout",
     "output_type": "stream",
     "text": [
      "State                             object\n",
      "Year                               int64\n",
      "Month                             object\n",
      "Period                            object\n",
      "Indicator                         object\n",
      "Data Value                         int64\n",
      "Percent Complete                  object\n",
      "Percent Pending Investigation    float64\n",
      "State Name                        object\n",
      "Predicted Value                    int64\n",
      "dtype: object\n"
     ]
    },
    {
     "data": {
      "text/plain": [
       "(65163, 10)"
      ]
     },
     "execution_count": 5,
     "metadata": {},
     "output_type": "execute_result"
    }
   ],
   "source": [
    "#Checking data types \n",
    "print(provisional_death.dtypes)\n",
    "provisional_death.shape"
   ]
  },
  {
   "cell_type": "code",
   "execution_count": 6,
   "metadata": {},
   "outputs": [],
   "source": [
    "# Fill 0 for missing values \n",
    "provisional_death=provisional_death.fillna(0)"
   ]
  },
  {
   "cell_type": "code",
   "execution_count": 7,
   "metadata": {},
   "outputs": [
    {
     "data": {
      "text/plain": [
       "State                            0\n",
       "Year                             0\n",
       "Month                            0\n",
       "Period                           0\n",
       "Indicator                        0\n",
       "Data Value                       0\n",
       "Percent Complete                 0\n",
       "Percent Pending Investigation    0\n",
       "State Name                       0\n",
       "Predicted Value                  0\n",
       "dtype: int64"
      ]
     },
     "execution_count": 7,
     "metadata": {},
     "output_type": "execute_result"
    }
   ],
   "source": [
    "#No missing values \n",
    "provisional_death.isna().sum()"
   ]
  },
  {
   "cell_type": "code",
   "execution_count": 8,
   "metadata": {},
   "outputs": [],
   "source": [
    "# Converting Year & Month to Integers & Strings \n",
    "provisional_death['Year'] = provisional_death['Year'].astype(str).str.replace(',', '').astype(int)\n",
    "provisional_death[\"Month\"]= provisional_death['Month'].astype(str)"
   ]
  },
  {
   "cell_type": "code",
   "execution_count": 9,
   "metadata": {},
   "outputs": [
    {
     "data": {
      "text/plain": [
       "State                             object\n",
       "Year                               int32\n",
       "Month                             object\n",
       "Period                            object\n",
       "Indicator                         object\n",
       "Data Value                         int64\n",
       "Percent Complete                  object\n",
       "Percent Pending Investigation    float64\n",
       "State Name                        object\n",
       "Predicted Value                    int64\n",
       "dtype: object"
      ]
     },
     "execution_count": 9,
     "metadata": {},
     "output_type": "execute_result"
    }
   ],
   "source": [
    "#Checking to see if conversion is successful \n",
    "provisional_death.dtypes"
   ]
  },
  {
   "cell_type": "code",
   "execution_count": 10,
   "metadata": {},
   "outputs": [],
   "source": [
    "# Converting 'Data Value' and 'Predicted Value' to string\n",
    "provisional_death['Data Value'] = provisional_death['Data Value'].astype(str)\n",
    "provisional_death['Predicted Value'] = provisional_death['Predicted Value'].astype(str)\n",
    "\n",
    "\n",
    "#REMOVING COMMAS AND CONVERT TO FLOATS\n",
    "provisional_death['Data Value'] = provisional_death['Data Value'].str.replace(',', '').astype(float)\n",
    "provisional_death['Predicted Value'] = provisional_death['Predicted Value'].str.replace(',', '').astype(float)\n",
    "\n",
    "# Convert float values to integers\n",
    "provisional_death['Data Value'] = provisional_death['Data Value'].astype(int)\n",
    "provisional_death['Predicted Value'] = provisional_death['Predicted Value'].astype(int)"
   ]
  },
  {
   "cell_type": "code",
   "execution_count": 11,
   "metadata": {},
   "outputs": [
    {
     "name": "stdout",
     "output_type": "stream",
     "text": [
      "State                             object\n",
      "Year                               int32\n",
      "Month                             object\n",
      "Period                            object\n",
      "Indicator                         object\n",
      "Data Value                         int32\n",
      "Percent Complete                  object\n",
      "Percent Pending Investigation    float64\n",
      "State Name                        object\n",
      "Predicted Value                    int32\n",
      "dtype: object\n",
      "State                            0\n",
      "Year                             0\n",
      "Month                            0\n",
      "Period                           0\n",
      "Indicator                        0\n",
      "Data Value                       0\n",
      "Percent Complete                 0\n",
      "Percent Pending Investigation    0\n",
      "State Name                       0\n",
      "Predicted Value                  0\n",
      "dtype: int64\n",
      "      State  Year      Month           Period  \\\n",
      "0        AK  2015      April  12 month-ending   \n",
      "1        AK  2015      April  12 month-ending   \n",
      "2        AK  2015      April  12 month-ending   \n",
      "3        AK  2015      April  12 month-ending   \n",
      "4        AK  2015      April  12 month-ending   \n",
      "...     ...   ...        ...              ...   \n",
      "65158    YC  2023  September  12 month-ending   \n",
      "65159    YC  2023  September  12 month-ending   \n",
      "65160    YC  2023  September  12 month-ending   \n",
      "65161    YC  2023  September  12 month-ending   \n",
      "65162    YC  2023  September  12 month-ending   \n",
      "\n",
      "                                           Indicator  Data Value  \\\n",
      "0         Synthetic opioids, excl. methadone (T40.4)           0   \n",
      "1                                     Heroin (T40.1)           0   \n",
      "2           Natural & semi-synthetic opioids (T40.2)           0   \n",
      "3                     Number of Drug Overdose Deaths         126   \n",
      "4                                    Cocaine (T40.5)           0   \n",
      "...                                              ...         ...   \n",
      "65158                   Percent with drugs specified          99   \n",
      "65159     Synthetic opioids, excl. methadone (T40.4)        2584   \n",
      "65160                                Cocaine (T40.5)        1670   \n",
      "65161                               Number of Deaths       56377   \n",
      "65162  Psychostimulants with abuse potential (T43.6)         252   \n",
      "\n",
      "      Percent Complete  Percent Pending Investigation     State Name  \\\n",
      "0                  100                       0.000000         Alaska   \n",
      "1                  100                       0.000000         Alaska   \n",
      "2                  100                       0.000000         Alaska   \n",
      "3                  100                       0.000000         Alaska   \n",
      "4                  100                       0.000000         Alaska   \n",
      "...                ...                            ...            ...   \n",
      "65158              100                       0.297994  New York City   \n",
      "65159              100                       0.297994  New York City   \n",
      "65160              100                       0.297994  New York City   \n",
      "65161              100                       0.297994  New York City   \n",
      "65162              100                       0.297994  New York City   \n",
      "\n",
      "       Predicted Value  \n",
      "0                    0  \n",
      "1                    0  \n",
      "2                    0  \n",
      "3                  126  \n",
      "4                    0  \n",
      "...                ...  \n",
      "65158                0  \n",
      "65159             2678  \n",
      "65160             1728  \n",
      "65161                0  \n",
      "65162              262  \n",
      "\n",
      "[65163 rows x 10 columns]\n"
     ]
    }
   ],
   "source": [
    "#Seeing the results\n",
    "print(provisional_death.dtypes)\n",
    "print(provisional_death.isna().sum())\n",
    "print(provisional_death)"
   ]
  },
  {
   "cell_type": "code",
   "execution_count": null,
   "metadata": {},
   "outputs": [],
   "source": [
    "# Creating  a new csv file - cleaned \n",
    "\n",
    "provisional_death.to_csv('provisional_death.csv', index=False)\n"
   ]
  }
 ],
 "metadata": {
  "kernelspec": {
   "display_name": ".venv",
   "language": "python",
   "name": "python3"
  },
  "language_info": {
   "codemirror_mode": {
    "name": "ipython",
    "version": 3
   },
   "file_extension": ".py",
   "mimetype": "text/x-python",
   "name": "python",
   "nbconvert_exporter": "python",
   "pygments_lexer": "ipython3",
   "version": "3.12.2"
  }
 },
 "nbformat": 4,
 "nbformat_minor": 2
}
